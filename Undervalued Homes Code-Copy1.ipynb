{
 "cells": [
  {
   "cell_type": "markdown",
   "metadata": {},
   "source": [
    " # Undervalued Homes"
   ]
  },
  {
   "cell_type": "markdown",
   "metadata": {},
   "source": [
    "A house flipper's main concern is to find which homes are being sold at a lower price in the market than its supposed value. Thus, my using the price predictor from our model, we aimed to pinpoint undervalued homes. We first combined the Train and Test datasets, adding on the longitude and latitude information onto it as well. Then, we created a new column to measure the difference in actual price and predicted price. From price_table_final, we filtered out homes that had a positive price difference, which means that its predicted price is higher than the actual price that it was sold."
   ]
  },
  {
   "cell_type": "code",
   "execution_count": null,
   "metadata": {
    "scrolled": false
   },
   "outputs": [],
   "source": [
    "#resetting the index before concatenating the Train and Test datasets\n",
    "y_test.reset_index(drop=True,inplace=True)\n",
    "X_train.reset_index(drop=True,inplace=True)\n",
    "X_test.reset_index(drop=True,inplace=True)\n",
    "#Concatenating the long, lat, actual price, and predicted price of both the Train and Test datasets\n",
    "price_table1 = pd.concat((X_train.long,X_train.lat,y_train,y_hat_train),axis=1)\n",
    "price_table2 = pd.concat((X_test.long,X_test.lat,y_test,y_test_pred),axis=1)\n",
    "price_table_final = pd.concat((price_table1,price_table2),axis=0)\n",
    "price_table_final.columns = ['long','lat','actual_price','pred_price']\n",
    "#making a new column for difference in price\n",
    "price_table_final['price_diff']=price_table_final[\"pred_price\"]-price_table_final['actual_price']\n",
    "#dataset with homes that have a higher predicted price than actual price\n",
    "price_table_pos = price_table_final.loc[price_table_final['price_diff']>0]\n",
    "price_table_pos"
   ]
  },
  {
   "cell_type": "markdown",
   "metadata": {},
   "source": [
    "One can see the potential average profit yield from this batch of undervalued homes below."
   ]
  },
  {
   "cell_type": "code",
   "execution_count": null,
   "metadata": {},
   "outputs": [],
   "source": [
    "print(\"Undervalued Homes have an average potential profit yield of: $\",price_table_pos['price_diff'].mean())"
   ]
  },
  {
   "cell_type": "markdown",
   "metadata": {},
   "source": [
    "As a case study, we selected one of the homes near the average potential profit yield metric. By utilizing the coordinates (latitude, longitude) and the zipcode, we were able to search its exact location via Google Maps.\n",
    "\n",
    "Address: 2751 NE 103rd St"
   ]
  },
  {
   "cell_type": "code",
   "execution_count": null,
   "metadata": {},
   "outputs": [],
   "source": [
    "price_table_pos.loc[4206]"
   ]
  },
  {
   "cell_type": "code",
   "execution_count": null,
   "metadata": {},
   "outputs": [],
   "source": [
    "#Cross referencing it to our original dataset\n",
    "example = df[df['coordinates']=='(47.4997, -122.231)']\n",
    "pd.set_option('display.max_columns', 36)\n",
    "example"
   ]
  },
  {
   "cell_type": "markdown",
   "metadata": {},
   "source": [
    "For such homes, Kapaw Consulting can further assist in investigatin whether a change the mutable features such as grade, condition, or interior design could potentially raise the home price."
   ]
  }
 ],
 "metadata": {
  "kernelspec": {
   "display_name": "Python 3",
   "language": "python",
   "name": "python3"
  },
  "language_info": {
   "codemirror_mode": {
    "name": "ipython",
    "version": 3
   },
   "file_extension": ".py",
   "mimetype": "text/x-python",
   "name": "python",
   "nbconvert_exporter": "python",
   "pygments_lexer": "ipython3",
   "version": "3.8.5"
  }
 },
 "nbformat": 4,
 "nbformat_minor": 4
}
